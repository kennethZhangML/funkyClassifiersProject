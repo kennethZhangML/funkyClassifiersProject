{
 "cells": [
  {
   "cell_type": "code",
   "execution_count": 1,
   "metadata": {},
   "outputs": [],
   "source": [
    "import numpy as np \n",
    "import pandas as pd \n",
    "import matplotlib.pyplot as plt \n",
    "\n",
    "import torch \n",
    "import torch.nn as nn"
   ]
  },
  {
   "cell_type": "code",
   "execution_count": 2,
   "metadata": {},
   "outputs": [
    {
     "data": {
      "text/plain": [
       "<AxesSubplot:>"
      ]
     },
     "execution_count": 2,
     "metadata": {},
     "output_type": "execute_result"
    },
    {
     "data": {
      "image/png": "[encoded data removed]",
      "text/plain": [
       "<Figure size 432x288 with 2 Axes>"
      ]
     },
     "metadata": {
      "needs_background": "light"
     },
     "output_type": "display_data"
    }
   ],
   "source": [
    "import seaborn as sns\n",
    "\n",
    "df = pd.read_csv(\"C:/Users/kzhan/Desktop/pytorchTutorial/datasets/star_classification.csv\")\n",
    "tm = df.corr()\n",
    "sns.heatmap(tm)"
   ]
  },
  {
   "cell_type": "code",
   "execution_count": 3,
   "metadata": {},
   "outputs": [],
   "source": [
    "from sklearn.model_selection import train_test_split\n",
    "from xgboost import XGBClassifier\n",
    "\n",
    "df = df.drop([\"obj_ID\", \"run_ID\", \"rerun_ID\", \"cam_col\", \"field_ID\", \"spec_obj_ID\", \"fiber_ID\", \"MJD\"], axis = 1)\n",
    "X, y = df.drop([\"class\"], axis = 1), df[\"class\"]\n",
    "y = y.map({\"GALAXY\": 0, \"QSO\": 1, \"STAR\": 2})"
   ]
  },
  {
   "cell_type": "code",
   "execution_count": 4,
   "metadata": {},
   "outputs": [],
   "source": [
    "X_train, X_test, y_train, y_test = train_test_split(X, y, test_size = 0.2, random_state = 42)\n",
    "\n",
    "X_train = torch.from_numpy(np.array(X_train).astype(np.float32)).float()\n",
    "X_test = torch.from_numpy(np.array(X_test).astype(np.float32)).float()\n",
    "\n",
    "y_train = torch.from_numpy(np.array(y_train)).long()\n",
    "y_test = torch.from_numpy(np.array(y_test)).long()"
   ]
  },
  {
   "cell_type": "code",
   "execution_count": 5,
   "metadata": {},
   "outputs": [],
   "source": [
    "class StarClassifier(nn.Module):\n",
    "\n",
    "    def __init__(self, input_dim, hidden_dim, output_dim):\n",
    "        super(StarClassifier, self).__init__()\n",
    "\n",
    "        self.linear_1 = nn.Linear(input_dim, hidden_dim)\n",
    "        self.relu_1 = nn.ReLU()\n",
    "\n",
    "        self.linear_2 = nn.Linear(hidden_dim, hidden_dim)\n",
    "        self.relu_2 = nn.ReLU()\n",
    "\n",
    "        self.linear_3 = nn.Linear(hidden_dim, output_dim)\n",
    "        self.relu_3 = nn.ReLU()\n",
    "    \n",
    "    def forward(self, x):\n",
    "        output = self.relu_1(self.linear_1(x))\n",
    "        output = self.relu_2(self.linear_2(output))\n",
    "        output = self.relu_3(self.linear_3(output))\n",
    "        return output\n",
    "\n",
    "n_samples, n_features = X_train.shape\n",
    "n_classes = len(np.unique(df[\"class\"]))\n",
    "model = StarClassifier(n_features, hidden_dim = 1500, output_dim = 3)\n",
    "optimizer = torch.optim.SGD(model.parameters(), lr = 0.1)\n",
    "criterion = torch.nn.CrossEntropyLoss()"
   ]
  },
  {
   "cell_type": "code",
   "execution_count": 6,
   "metadata": {},
   "outputs": [
    {
     "name": "stderr",
     "output_type": "stream",
     "text": [
      "100%|██████████| 3/3 [00:14<00:00,  4.97s/it]\n"
     ]
    }
   ],
   "source": [
    "import tqdm\n",
    "\n",
    "batch_size = 100\n",
    "n_iters = 3000\n",
    "n_epochs = int(n_iters / (len(X_train) / batch_size))\n",
    "\n",
    "loss_list = torch.zeros((n_epochs, ))\n",
    "accuracy_list = torch.zeros((n_epochs))\n",
    "\n",
    "for epoch in tqdm.trange(n_epochs):\n",
    "    y_pred = model(X_train)\n",
    "    loss = criterion(y_pred, y_train)\n",
    "    loss_list[epoch] = loss.item()\n",
    "\n",
    "    optimizer.zero_grad()\n",
    "    loss.backward()\n",
    "    optimizer.step()\n",
    "\n",
    "    with torch.no_grad():\n",
    "        y_pred_2 = model(X_test)\n",
    "        correct = (torch.argmax(y_pred_2, dim = 1) == y_test).type(torch.FloatTensor)\n",
    "        accuracy_list[epoch] = correct.mean()"
   ]
  }
 ],
 "metadata": {
  "kernelspec": {
   "display_name": "Python 3",
   "language": "python",
   "name": "python3"
  },
  "language_info": {
   "codemirror_mode": {
    "name": "ipython",
    "version": 3
   },
   "file_extension": ".py",
   "mimetype": "text/x-python",
   "name": "python",
   "nbconvert_exporter": "python",
   "pygments_lexer": "ipython3",
   "version": "3.8.10"
  },
  "orig_nbformat": 4,
  "vscode": {
   "interpreter": {
    "hash": "6a59ad10282044ba139a76322f59578aecb1e0d4b83bc460c41dd698a2df07c1"
   }
  }
 },
 "nbformat": 4,
 "nbformat_minor": 2
}
