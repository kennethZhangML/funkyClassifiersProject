{
 "cells": [
  {
   "cell_type": "code",
   "execution_count": 1,
   "metadata": {},
   "outputs": [],
   "source": [
    "import torch\n",
    "import torch.nn as nn\n",
    "import numpy as np\n",
    "from sklearn import datasets\n",
    "from sklearn.preprocessing import StandardScaler\n",
    "from sklearn.model_selection import train_test_split\n",
    "\n",
    "bc = datasets.load_breast_cancer()\n",
    "X, y = bc.data, bc.target"
   ]
  },
  {
   "cell_type": "code",
   "execution_count": 6,
   "metadata": {},
   "outputs": [],
   "source": [
    "X_train, X_test, y_train, y_test = train_test_split(X, y, test_size = 0.2, random_state = 42)\n",
    "\n",
    "scaler = StandardScaler()\n",
    "X_train = scaler.fit_transform(X_train)\n",
    "X_test = scaler.fit_transform(X_test)"
   ]
  },
  {
   "cell_type": "code",
   "execution_count": 7,
   "metadata": {},
   "outputs": [],
   "source": [
    "X_train = torch.from_numpy(X_train.astype(np.float32))\n",
    "X_test = torch.from_numpy(X_test.astype(np.float32))\n",
    "\n",
    "y_train = torch.from_numpy(y_train.astype(np.float32))\n",
    "y_test = torch.from_numpy(y_test.astype(np.float32))"
   ]
  },
  {
   "cell_type": "code",
   "execution_count": 8,
   "metadata": {},
   "outputs": [
    {
     "name": "stdout",
     "output_type": "stream",
     "text": [
      "torch.Size([455, 30]) torch.Size([455])\n"
     ]
    }
   ],
   "source": [
    "print(X_train.shape, y_train.shape)"
   ]
  },
  {
   "cell_type": "code",
   "execution_count": 11,
   "metadata": {},
   "outputs": [],
   "source": [
    "y_train = y_train.view(y_train.shape[0], 1)\n",
    "y_test = y_test.view(y_test.shape[0], 1)"
   ]
  },
  {
   "cell_type": "code",
   "execution_count": 54,
   "metadata": {},
   "outputs": [],
   "source": [
    "class BreastCancerPredictionModel(nn.Module):\n",
    "    def __init__(self, input_dim, output_dim):\n",
    "        super(BreastCancerPredictionModel, self).__init__()\n",
    "        \n",
    "        self.linear = nn.Linear(input_dim, output_dim)\n",
    "        \n",
    "    def forward(self, x):\n",
    "        output = torch.sigmoid(self.linear(x))\n",
    "        return output\n",
    "\n",
    "class FeedforwardNeuralNetModel(nn.Module):\n",
    "    def __init__(self, input_dim, hidden_dim, output_dim):\n",
    "        super(FeedforwardNeuralNetModel, self).__init__()\n",
    "        self.fc1 = nn.Linear(input_dim, hidden_dim) \n",
    "        self.sigmoid1 = nn.Sigmoid()\n",
    "        self.fc2 = nn.Linear(hidden_dim, hidden_dim)\n",
    "        self.sigmoid2 = nn.Sigmoid()\n",
    "        self.fc3 = nn.Linear(hidden_dim, hidden_dim)\n",
    "        self.sigmoid3 = nn.Sigmoid()\n",
    "        self.fc4 = nn.Linear(hidden_dim, output_dim)  \n",
    "\n",
    "    def forward(self, x):\n",
    "        out = self.fc1(x)\n",
    "        out = self.sigmoid1(out)\n",
    "        out = self.fc2(out)\n",
    "        out = self.sigmoid2(out)\n",
    "        out = self.fc3(out)\n",
    "        out = self.sigmoid3(out)\n",
    "        out = self.fc4(out)\n",
    "        return out"
   ]
  },
  {
   "cell_type": "code",
   "execution_count": 59,
   "metadata": {},
   "outputs": [],
   "source": [
    "n_iters = 1000\n",
    "learning_rate = 0.01\n",
    "\n",
    "n_samples, n_features = X.shape\n",
    "output_dim = 1\n",
    "\n",
    "model = BreastCancerPredictionModel(n_features, output_dim)\n",
    "optimizer = torch.optim.SGD(model.parameters(), lr = learning_rate)\n",
    "criterion = torch.nn.BCELoss()"
   ]
  },
  {
   "cell_type": "code",
   "execution_count": 67,
   "metadata": {},
   "outputs": [
    {
     "name": "stdout",
     "output_type": "stream",
     "text": [
      "epoch: 10, loss = 0.0659\n",
      "epoch: 20, loss = 0.0659\n",
      "epoch: 30, loss = 0.0658\n",
      "epoch: 40, loss = 0.0658\n",
      "epoch: 50, loss = 0.0658\n",
      "epoch: 60, loss = 0.0658\n",
      "epoch: 70, loss = 0.0658\n",
      "epoch: 80, loss = 0.0657\n",
      "epoch: 90, loss = 0.0657\n",
      "epoch: 100, loss = 0.0657\n",
      "epoch: 110, loss = 0.0657\n",
      "epoch: 120, loss = 0.0657\n",
      "epoch: 130, loss = 0.0657\n",
      "epoch: 140, loss = 0.0656\n",
      "epoch: 150, loss = 0.0656\n",
      "epoch: 160, loss = 0.0656\n",
      "epoch: 170, loss = 0.0656\n",
      "epoch: 180, loss = 0.0656\n",
      "epoch: 190, loss = 0.0655\n",
      "epoch: 200, loss = 0.0655\n",
      "epoch: 210, loss = 0.0655\n",
      "epoch: 220, loss = 0.0655\n",
      "epoch: 230, loss = 0.0655\n",
      "epoch: 240, loss = 0.0655\n",
      "epoch: 250, loss = 0.0654\n",
      "epoch: 260, loss = 0.0654\n",
      "epoch: 270, loss = 0.0654\n",
      "epoch: 280, loss = 0.0654\n",
      "epoch: 290, loss = 0.0654\n",
      "epoch: 300, loss = 0.0653\n",
      "epoch: 310, loss = 0.0653\n",
      "epoch: 320, loss = 0.0653\n",
      "epoch: 330, loss = 0.0653\n",
      "epoch: 340, loss = 0.0653\n",
      "epoch: 350, loss = 0.0653\n",
      "epoch: 360, loss = 0.0652\n",
      "epoch: 370, loss = 0.0652\n",
      "epoch: 380, loss = 0.0652\n",
      "epoch: 390, loss = 0.0652\n",
      "epoch: 400, loss = 0.0652\n",
      "epoch: 410, loss = 0.0652\n",
      "epoch: 420, loss = 0.0651\n",
      "epoch: 430, loss = 0.0651\n",
      "epoch: 440, loss = 0.0651\n",
      "epoch: 450, loss = 0.0651\n",
      "epoch: 460, loss = 0.0651\n",
      "epoch: 470, loss = 0.0650\n",
      "epoch: 480, loss = 0.0650\n",
      "epoch: 490, loss = 0.0650\n",
      "epoch: 500, loss = 0.0650\n",
      "epoch: 510, loss = 0.0650\n",
      "epoch: 520, loss = 0.0650\n",
      "epoch: 530, loss = 0.0649\n",
      "epoch: 540, loss = 0.0649\n",
      "epoch: 550, loss = 0.0649\n",
      "epoch: 560, loss = 0.0649\n",
      "epoch: 570, loss = 0.0649\n",
      "epoch: 580, loss = 0.0649\n",
      "epoch: 590, loss = 0.0648\n",
      "epoch: 600, loss = 0.0648\n",
      "epoch: 610, loss = 0.0648\n",
      "epoch: 620, loss = 0.0648\n",
      "epoch: 630, loss = 0.0648\n",
      "epoch: 640, loss = 0.0648\n",
      "epoch: 650, loss = 0.0647\n",
      "epoch: 660, loss = 0.0647\n",
      "epoch: 670, loss = 0.0647\n",
      "epoch: 680, loss = 0.0647\n",
      "epoch: 690, loss = 0.0647\n",
      "epoch: 700, loss = 0.0647\n",
      "epoch: 710, loss = 0.0646\n",
      "epoch: 720, loss = 0.0646\n",
      "epoch: 730, loss = 0.0646\n",
      "epoch: 740, loss = 0.0646\n",
      "epoch: 750, loss = 0.0646\n",
      "epoch: 760, loss = 0.0646\n",
      "epoch: 770, loss = 0.0645\n",
      "epoch: 780, loss = 0.0645\n",
      "epoch: 790, loss = 0.0645\n",
      "epoch: 800, loss = 0.0645\n",
      "epoch: 810, loss = 0.0645\n",
      "epoch: 820, loss = 0.0645\n",
      "epoch: 830, loss = 0.0644\n",
      "epoch: 840, loss = 0.0644\n",
      "epoch: 850, loss = 0.0644\n",
      "epoch: 860, loss = 0.0644\n",
      "epoch: 870, loss = 0.0644\n",
      "epoch: 880, loss = 0.0644\n",
      "epoch: 890, loss = 0.0644\n",
      "epoch: 900, loss = 0.0643\n",
      "epoch: 910, loss = 0.0643\n",
      "epoch: 920, loss = 0.0643\n",
      "epoch: 930, loss = 0.0643\n",
      "epoch: 940, loss = 0.0643\n",
      "epoch: 950, loss = 0.0643\n",
      "epoch: 960, loss = 0.0642\n",
      "epoch: 970, loss = 0.0642\n",
      "epoch: 980, loss = 0.0642\n",
      "epoch: 990, loss = 0.0642\n",
      "epoch: 1000, loss = 0.0642\n"
     ]
    }
   ],
   "source": [
    "for epoch in range(n_iters):\n",
    "    y_pred = model(X_train)\n",
    "    loss = criterion(y_pred, y_train)\n",
    "    \n",
    "    loss.backward()\n",
    "    optimizer.step()\n",
    "    optimizer.zero_grad()\n",
    "    \n",
    "    if (epoch+1) % 10 == 0:\n",
    "        \n",
    "        print(f'epoch: {epoch+1}, loss = {loss.item():.4f}')"
   ]
  },
  {
   "cell_type": "code",
   "execution_count": null,
   "metadata": {},
   "outputs": [],
   "source": []
  }
 ],
 "metadata": {
  "kernelspec": {
   "display_name": "Python 3",
   "language": "python",
   "name": "python3"
  },
  "language_info": {
   "codemirror_mode": {
    "name": "ipython",
    "version": 3
   },
   "file_extension": ".py",
   "mimetype": "text/x-python",
   "name": "python",
   "nbconvert_exporter": "python",
   "pygments_lexer": "ipython3",
   "version": "3.8.10 (tags/v3.8.10:3d8993a, May  3 2021, 11:48:03) [MSC v.1928 64 bit (AMD64)]"
  },
  "vscode": {
   "interpreter": {
    "hash": "6a59ad10282044ba139a76322f59578aecb1e0d4b83bc460c41dd698a2df07c1"
   }
  }
 },
 "nbformat": 4,
 "nbformat_minor": 4
}
